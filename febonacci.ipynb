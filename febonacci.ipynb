{
  "nbformat": 4,
  "nbformat_minor": 0,
  "metadata": {
    "colab": {
      "provenance": [],
      "collapsed_sections": [],
      "authorship_tag": "ABX9TyMgIj9lI0UaLqE0EWRCMGGV",
      "include_colab_link": true
    },
    "kernelspec": {
      "name": "python3",
      "display_name": "Python 3"
    },
    "language_info": {
      "name": "python"
    }
  },
  "cells": [
    {
      "cell_type": "markdown",
      "metadata": {
        "id": "view-in-github",
        "colab_type": "text"
      },
      "source": [
        "<a href=\"https://colab.research.google.com/github/pathhunter/Python/blob/master/febonacci.ipynb\" target=\"_parent\"><img src=\"https://colab.research.google.com/assets/colab-badge.svg\" alt=\"Open In Colab\"/></a>"
      ]
    },
    {
      "cell_type": "code",
      "execution_count": 2,
      "metadata": {
        "colab": {
          "base_uri": "https://localhost:8080/"
        },
        "id": "kTpRjjx1xt3u",
        "outputId": "5f64261d-a516-4de5-fcc9-2c6cd4822e08"
      },
      "outputs": [
        {
          "output_type": "stream",
          "name": "stdout",
          "text": [
            "karan\n"
          ]
        }
      ],
      "source": [
        "print(\"karan\")"
      ]
    },
    {
      "cell_type": "code",
      "source": [
        "\n",
        "def fib(n):\n",
        "     a, b = 0, 1\n",
        "     while a < n:\n",
        "         print(a, end=' ')\n",
        "         a, b = b, a+b\n",
        "     print()\n",
        "fib(20)"
      ],
      "metadata": {
        "colab": {
          "base_uri": "https://localhost:8080/"
        },
        "id": "SX0NnvYtxwuX",
        "outputId": "3661a2f2-e82a-430d-c412-ecdc9a5422f7"
      },
      "execution_count": 5,
      "outputs": [
        {
          "output_type": "stream",
          "name": "stdout",
          "text": [
            "0 1 1 2 3 5 8 13 \n"
          ]
        }
      ]
    },
    {
      "cell_type": "code",
      "source": [],
      "metadata": {
        "id": "TVqoSb1myeur"
      },
      "execution_count": null,
      "outputs": []
    }
  ]
}